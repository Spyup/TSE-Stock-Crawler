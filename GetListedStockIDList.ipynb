{
 "cells": [
  {
   "cell_type": "code",
   "execution_count": 1,
   "metadata": {},
   "outputs": [],
   "source": [
    "from requests_html import HTMLSession\n",
    "import csv\n",
    "import pandas as pd"
   ]
  },
  {
   "cell_type": "code",
   "execution_count": 2,
   "metadata": {},
   "outputs": [],
   "source": [
    "req = HTMLSession()\n",
    "response = req.get('https://isin.twse.com.tw/isin/C_public.jsp?strMode=2')\n"
   ]
  },
  {
   "cell_type": "code",
   "execution_count": 3,
   "metadata": {},
   "outputs": [
    {
     "name": "stdout",
     "output_type": "stream",
     "text": [
      "0          有價證券代號及名稱 市場別   產業別\n",
      "2            1101　台泥  上市  水泥工業\n",
      "3            1102　亞泥  上市  水泥工業\n",
      "4            1103　嘉泥  上市  水泥工業\n",
      "5            1104　環泥  上市  水泥工業\n",
      "6            1108　幸福  上市  水泥工業\n",
      "...              ...  ..   ...\n",
      "29232  01003T　兆豐新光R1  上市   NaN\n",
      "29233  01004T　土銀富邦R2  上市   NaN\n",
      "29234  01007T　兆豐國泰R2  上市   NaN\n",
      "29235  01009T　王道圓滿R1  上市   NaN\n",
      "29236  01010T　京城樂富R1  上市   NaN\n",
      "\n",
      "[29235 rows x 3 columns]\n"
     ]
    }
   ],
   "source": [
    "Data = pd.read_html(response.text)[0]\n",
    "Data.columns = Data.iloc[0]\n",
    "Data = Data.iloc[2:]\n",
    "Data = Data.dropna(thresh=3,axis=0).dropna(thresh=3,axis=1)\n",
    "Data = Data[['有價證券代號及名稱','市場別','產業別']]\n",
    "print(Data)"
   ]
  },
  {
   "cell_type": "code",
   "execution_count": 4,
   "metadata": {},
   "outputs": [
    {
     "name": "stdout",
     "output_type": "stream",
     "text": [
      "[['1101\\u3000台泥' '上市' '水泥工業']\n",
      " ['1102\\u3000亞泥' '上市' '水泥工業']\n",
      " ['1103\\u3000嘉泥' '上市' '水泥工業']\n",
      " ...\n",
      " ['01007T\\u3000兆豐國泰R2' '上市' nan]\n",
      " ['01009T\\u3000王道圓滿R1' '上市' nan]\n",
      " ['01010T\\u3000京城樂富R1' '上市' nan]]\n"
     ]
    }
   ],
   "source": [
    "DataArray = Data.to_numpy()\n",
    "print(DataArray)"
   ]
  },
  {
   "cell_type": "code",
   "execution_count": 5,
   "metadata": {},
   "outputs": [],
   "source": [
    "#水泥工業\n",
    "cementID = []\n",
    "cementName = []\n",
    "\n",
    "#食品工業\n",
    "foodID = []\n",
    "foodName = []\n",
    "\n",
    "#塑膠工業\n",
    "plasticID = []\n",
    "plasticName = []\n",
    "\n",
    "#建材營造業\n",
    "buildingID = []\n",
    "buildingName = []\n",
    "\n",
    "#汽車工業\n",
    "carID = []\n",
    "carName = []\n",
    "\n",
    "#紡織纖維\n",
    "fiberID = []\n",
    "fiberName = []\n",
    "\n",
    "#貿易百貨業\n",
    "tradeID = []\n",
    "tradeName = []\n",
    "\n",
    "#電子零組件業\n",
    "electronicID = []\n",
    "electronicName = []\n",
    "\n",
    "#電機機械\n",
    "motorID = []\n",
    "motorName = []\n",
    "\n",
    "#生技醫療業\n",
    "medicalID = []\n",
    "medicalName = []\n",
    "\n",
    "#電器電纜\n",
    "cableID = []\n",
    "cableName = []\n",
    "\n",
    "#化學工業\n",
    "chemicalID = []\n",
    "chemicalName = []\n",
    "\n",
    "#玻璃陶瓷\n",
    "glassID = []\n",
    "glassName = []\n",
    "\n",
    "#造紙工業\n",
    "paperID = []\n",
    "paperName = []\n",
    "\n",
    "#鋼鐵工業\n",
    "ironID = []\n",
    "ironName = []\n",
    "\n",
    "#橡膠工業\n",
    "rubberID = []\n",
    "rubberName = []\n",
    "\n",
    "#航運業\n",
    "shippingID = []\n",
    "shippingName = []\n",
    "\n",
    "#電腦及週邊設備業\n",
    "computerID = []\n",
    "computerName = []\n",
    "\n",
    "#半導體業\n",
    "semiconductorID = []\n",
    "semiconductorName = []\n",
    "\n",
    "#其他電子業\n",
    "otherEleID = []\n",
    "otherEleName = []\n",
    "\n",
    "#通信網路業\n",
    "communicationID = []\n",
    "communicationName = []\n",
    "\n",
    "#光電業\n",
    "optoelectronicID = []\n",
    "optoelectronicName = []\n",
    "\n",
    "#電子通路業\n",
    "channelID = []\n",
    "channelName = []\n",
    "\n",
    "#資訊服務業\n",
    "informationID = []\n",
    "informationName = []\n",
    "\n",
    "#通信網路業\n",
    "networkID = []\n",
    "networkName = []\n",
    "\n",
    "#油電燃氣業\n",
    "oilID = []\n",
    "oilName = []\n",
    "\n",
    "#觀光事業\n",
    "tourismID = []\n",
    "tourismName = []\n",
    "\n",
    "#金融保險業\n",
    "financialID = []\n",
    "financialName = []\n",
    "\n",
    "#其他業\n",
    "otherID = []\n",
    "otherName = []"
   ]
  },
  {
   "cell_type": "code",
   "execution_count": 6,
   "metadata": {},
   "outputs": [],
   "source": [
    "StoreText = []\n",
    "for i in range(0,len(DataArray)):\n",
    "    if DataArray[i][2] == \"水泥工業\" :\n",
    "        StoreText = DataArray[i][0].split()\n",
    "        cementID.append(StoreText[0])\n",
    "        cementName.append(StoreText[1])\n",
    "    elif DataArray[i][2] == \"食品工業\":\n",
    "        StoreText = DataArray[i][0].split()\n",
    "        foodID.append(StoreText[0])\n",
    "        foodName.append(StoreText[1])\n",
    "    elif DataArray[i][2] == \"塑膠工業\" :\n",
    "        StoreText = DataArray[i][0].split()\n",
    "        plasticID.append(StoreText[0])\n",
    "        plasticName.append(StoreText[1])\n",
    "    elif DataArray[i][2] == \"建材營造業\":\n",
    "        StoreText = DataArray[i][0].split()\n",
    "        buildingID.append(StoreText[0])\n",
    "        buildingName.append(StoreText[1])\n",
    "    elif DataArray[i][2] == \"汽車工業\":\n",
    "        StoreText = DataArray[i][0].split()\n",
    "        carID.append(StoreText[0])\n",
    "        carName.append(StoreText[1])\n",
    "    elif DataArray[i][2] == \"其他業\":\n",
    "        StoreText = DataArray[i][0].split()\n",
    "        otherID.append(StoreText[0])\n",
    "        otherName.append(StoreText[1])\n",
    "    elif DataArray[i][2] == \"紡織纖維\":\n",
    "        StoreText = DataArray[i][0].split()\n",
    "        fiberID.append(StoreText[0])\n",
    "        fiberName.append(StoreText[1])\n",
    "    elif DataArray[i][2] == \"貿易百貨業\":\n",
    "        StoreText = DataArray[i][0].split()\n",
    "        tradeID.append(StoreText[0])\n",
    "        tradeName.append(StoreText[1])\n",
    "    elif DataArray[i][2] == \"電子零組件業\":\n",
    "        StoreText = DataArray[i][0].split()\n",
    "        electronicID.append(StoreText[0])\n",
    "        electronicName.append(StoreText[1])\n",
    "    elif DataArray[i][2] == \"電機機械\":\n",
    "        StoreText = DataArray[i][0].split()\n",
    "        motorID.append(StoreText[0])\n",
    "        motorName.append(StoreText[1])\n",
    "    elif DataArray[i][2] == \"生技醫療業\":\n",
    "        StoreText = DataArray[i][0].split()\n",
    "        medicalID.append(StoreText[0])\n",
    "        medicalName.append(StoreText[1])\n",
    "    elif DataArray[i][2] == \"電器電纜\":\n",
    "        StoreText = DataArray[i][0].split()\n",
    "        cableID.append(StoreText[0])\n",
    "        cableName.append(StoreText[1])\n",
    "    elif DataArray[i][2] == \"化學工業\":\n",
    "        StoreText = DataArray[i][0].split()\n",
    "        chemicalID.append(StoreText[0])\n",
    "        chemicalName.append(StoreText[1])\n",
    "    elif DataArray[i][2] == \"玻璃陶瓷\":\n",
    "        StoreText = DataArray[i][0].split()\n",
    "        glassID.append(StoreText[0])\n",
    "        glassName.append(StoreText[1])\n",
    "    elif DataArray[i][2] == \"造紙工業\":\n",
    "        StoreText = DataArray[i][0].split()\n",
    "        paperID.append(StoreText[0])\n",
    "        paperName.append(StoreText[1])\n",
    "    elif DataArray[i][2] == \"鋼鐵工業\":\n",
    "        StoreText = DataArray[i][0].split()\n",
    "        ironID.append(StoreText[0])\n",
    "        ironName.append(StoreText[1])\n",
    "    elif DataArray[i][2] == \"橡膠工業\":\n",
    "        StoreText = DataArray[i][0].split()\n",
    "        rubberID.append(StoreText[0])\n",
    "        rubberName.append(StoreText[1])\n",
    "    elif DataArray[i][2] == \"航運業\":\n",
    "        StoreText = DataArray[i][0].split()\n",
    "        shippingID.append(StoreText[0])\n",
    "        shippingName.append(StoreText[1])\n",
    "    elif DataArray[i][2] == \"電腦及週邊設備業\":\n",
    "        StoreText = DataArray[i][0].split()\n",
    "        computerID.append(StoreText[0])\n",
    "        computerName.append(StoreText[1])\n",
    "    elif DataArray[i][2] == \"半導體業\":\n",
    "        StoreText = DataArray[i][0].split()\n",
    "        semiconductorID.append(StoreText[0])\n",
    "        semiconductorName.append(StoreText[1])\n",
    "    elif DataArray[i][2] == \"其他電子業\":\n",
    "        StoreText = DataArray[i][0].split()\n",
    "        otherEleID.append(StoreText[0])\n",
    "        otherEleName.append(StoreText[1])\n",
    "    elif DataArray[i][2] == \"通信網路業\":\n",
    "        StoreText = DataArray[i][0].split()\n",
    "        communicationID.append(StoreText[0])\n",
    "        communicationName.append(StoreText[1])\n",
    "    elif DataArray[i][2] == \"光電業\":\n",
    "        StoreText = DataArray[i][0].split()\n",
    "        optoelectronicID.append(StoreText[0])\n",
    "        optoelectronicName.append(StoreText[1])\n",
    "    elif DataArray[i][2] == \"電子通路業\":\n",
    "        StoreText = DataArray[i][0].split()\n",
    "        channelID.append(StoreText[0])\n",
    "        channelName.append(StoreText[1])\n",
    "    elif DataArray[i][2] == \"資訊服務業\":\n",
    "        StoreText = DataArray[i][0].split()\n",
    "        informationID.append(StoreText[0])\n",
    "        informationName.append(StoreText[1])\n",
    "    elif DataArray[i][2] == \"通信網路業\":\n",
    "        StoreText = DataArray[i][0].split()\n",
    "        networkID.append(StoreText[0])\n",
    "        networkName.append(StoreText[1])\n",
    "    elif DataArray[i][2] == \"油電燃氣業\":\n",
    "        StoreText = DataArray[i][0].split()\n",
    "        oilID.append(StoreText[0])\n",
    "        oilName.append(StoreText[1])\n",
    "    elif DataArray[i][2] == \"觀光事業\":\n",
    "        StoreText = DataArray[i][0].split()\n",
    "        tourismID.append(StoreText[0])\n",
    "        tourismName.append(StoreText[1])\n",
    "    elif DataArray[i][2] == \"金融保險業\":\n",
    "        StoreText = DataArray[i][0].split()\n",
    "        financialID.append(StoreText[0])\n",
    "        financialName.append(StoreText[1])\n",
    "\n"
   ]
  },
  {
   "cell_type": "code",
   "execution_count": 7,
   "metadata": {},
   "outputs": [],
   "source": [
    "#水泥工業\n",
    "with open('./NewListedStockID/水泥工業.csv','w',newline='',encoding='utf-8') as csvfile:\n",
    "    writer = csv.writer(csvfile, delimiter=',')\n",
    "    for i in range(0,len(cementID)):\n",
    "        writer.writerow([cementID[i],cementName[i]])"
   ]
  },
  {
   "cell_type": "code",
   "execution_count": 8,
   "metadata": {},
   "outputs": [],
   "source": [
    "#食品工業\n",
    "with open('./NewListedStockID/食品工業.csv','w',newline='',encoding='utf-8') as csvfile:\n",
    "    writer = csv.writer(csvfile, delimiter=',')\n",
    "    for i in range(0,len(foodID)):\n",
    "        writer.writerow([foodID[i],foodName[i]])"
   ]
  },
  {
   "cell_type": "code",
   "execution_count": 9,
   "metadata": {},
   "outputs": [],
   "source": [
    "#塑膠工業\n",
    "with open('./NewListedStockID/塑膠工業.csv','w',newline='',encoding='utf-8') as csvfile:\n",
    "    writer = csv.writer(csvfile, delimiter=',')\n",
    "    for i in range(0,len(plasticID)):\n",
    "        writer.writerow([plasticID[i],plasticName[i]])"
   ]
  },
  {
   "cell_type": "code",
   "execution_count": 10,
   "metadata": {},
   "outputs": [],
   "source": [
    "#建材營造業\n",
    "with open('./NewListedStockID/建材營造業.csv','w',newline='',encoding='utf-8') as csvfile:\n",
    "    writer = csv.writer(csvfile, delimiter=',')\n",
    "    for i in range(0,len(buildingID)):\n",
    "        writer.writerow([buildingID[i],buildingName[i]])"
   ]
  },
  {
   "cell_type": "code",
   "execution_count": 11,
   "metadata": {},
   "outputs": [],
   "source": [
    "#汽車工業\n",
    "with open('./NewListedStockID/汽車工業.csv','w',newline='',encoding='utf-8') as csvfile:\n",
    "    writer = csv.writer(csvfile, delimiter=',')\n",
    "    for i in range(0,len(carID)):\n",
    "        writer.writerow([carID[i],carName[i]])"
   ]
  },
  {
   "cell_type": "code",
   "execution_count": 12,
   "metadata": {},
   "outputs": [],
   "source": [
    "#紡織纖維\n",
    "with open('./NewListedStockID/紡織纖維.csv','w',newline='',encoding='utf-8') as csvfile:\n",
    "    writer = csv.writer(csvfile, delimiter=',')\n",
    "    for i in range(0,len(fiberID)):\n",
    "        writer.writerow([fiberID[i],fiberName[i]])"
   ]
  },
  {
   "cell_type": "code",
   "execution_count": 13,
   "metadata": {},
   "outputs": [],
   "source": [
    "#貿易百貨業\n",
    "with open('./NewListedStockID/貿易百貨業.csv','w',newline='',encoding='utf-8') as csvfile:\n",
    "    writer = csv.writer(csvfile, delimiter=',')\n",
    "    for i in range(0,len(tradeID)):\n",
    "        writer.writerow([tradeID[i],tradeName[i]])"
   ]
  },
  {
   "cell_type": "code",
   "execution_count": 14,
   "metadata": {},
   "outputs": [],
   "source": [
    "#電子零組件業\n",
    "with open('./NewListedStockID/電子零組件業.csv','w',newline='',encoding='utf-8') as csvfile:\n",
    "    writer = csv.writer(csvfile, delimiter=',')\n",
    "    for i in range(0,len(electronicID)):\n",
    "        writer.writerow([electronicID[i],electronicName[i]])"
   ]
  },
  {
   "cell_type": "code",
   "execution_count": 15,
   "metadata": {},
   "outputs": [],
   "source": [
    "#電機機械\n",
    "with open('./NewListedStockID/電機機械.csv','w',newline='',encoding='utf-8') as csvfile:\n",
    "    writer = csv.writer(csvfile, delimiter=',')\n",
    "    for i in range(0,len(motorID)):\n",
    "        writer.writerow([motorID[i],motorName[i]])"
   ]
  },
  {
   "cell_type": "code",
   "execution_count": 16,
   "metadata": {},
   "outputs": [],
   "source": [
    "#生技醫療業\n",
    "with open('./NewListedStockID/生技醫療業.csv','w',newline='',encoding='utf-8') as csvfile:\n",
    "    writer = csv.writer(csvfile, delimiter=',')\n",
    "    for i in range(0,len(medicalID)):\n",
    "        writer.writerow([medicalID[i],medicalName[i]])"
   ]
  },
  {
   "cell_type": "code",
   "execution_count": 17,
   "metadata": {},
   "outputs": [],
   "source": [
    "#電器電纜\n",
    "with open('./NewListedStockID/電器電纜.csv','w',newline='',encoding='utf-8') as csvfile:\n",
    "    writer = csv.writer(csvfile, delimiter=',')\n",
    "    for i in range(0,len(cableID)):\n",
    "        writer.writerow([cableID[i],cableName[i]])"
   ]
  },
  {
   "cell_type": "code",
   "execution_count": 18,
   "metadata": {},
   "outputs": [],
   "source": [
    "#化學工業\n",
    "with open('./NewListedStockID/化學工業.csv','w',newline='',encoding='utf-8') as csvfile:\n",
    "    writer = csv.writer(csvfile, delimiter=',')\n",
    "    for i in range(0,len(chemicalID)):\n",
    "        writer.writerow([chemicalID[i],chemicalName[i]])"
   ]
  },
  {
   "cell_type": "code",
   "execution_count": 19,
   "metadata": {},
   "outputs": [],
   "source": [
    "#玻璃陶瓷\n",
    "with open('./NewListedStockID/玻璃陶瓷.csv','w',newline='',encoding='utf-8') as csvfile:\n",
    "    writer = csv.writer(csvfile, delimiter=',')\n",
    "    for i in range(0,len(glassID)):\n",
    "        writer.writerow([glassID[i],glassName[i]])"
   ]
  },
  {
   "cell_type": "code",
   "execution_count": 20,
   "metadata": {},
   "outputs": [],
   "source": [
    "#造紙工業\n",
    "with open('./NewListedStockID/造紙工業.csv','w',newline='',encoding='utf-8') as csvfile:\n",
    "    writer = csv.writer(csvfile, delimiter=',')\n",
    "    for i in range(0,len(paperID)):\n",
    "        writer.writerow([paperID[i],paperName[i]])"
   ]
  },
  {
   "cell_type": "code",
   "execution_count": 21,
   "metadata": {},
   "outputs": [],
   "source": [
    "#鋼鐵工業\n",
    "with open('./NewListedStockID/鋼鐵工業.csv','w',newline='',encoding='utf-8') as csvfile:\n",
    "    writer = csv.writer(csvfile, delimiter=',')\n",
    "    for i in range(0,len(ironID)):\n",
    "        writer.writerow([ironID[i],ironName[i]])"
   ]
  },
  {
   "cell_type": "code",
   "execution_count": 22,
   "metadata": {},
   "outputs": [],
   "source": [
    "#橡膠工業\n",
    "with open('./NewListedStockID/橡膠工業.csv','w',newline='',encoding='utf-8') as csvfile:\n",
    "    writer = csv.writer(csvfile, delimiter=',')\n",
    "    for i in range(0,len(rubberID)):\n",
    "        writer.writerow([rubberID[i],rubberName[i]])"
   ]
  },
  {
   "cell_type": "code",
   "execution_count": 23,
   "metadata": {},
   "outputs": [],
   "source": [
    "#航運業\n",
    "with open('./NewListedStockID/航運業.csv','w',newline='',encoding='utf-8') as csvfile:\n",
    "    writer = csv.writer(csvfile, delimiter=',')\n",
    "    for i in range(0,len(shippingID)):\n",
    "        writer.writerow([shippingID[i],shippingName[i]])"
   ]
  },
  {
   "cell_type": "code",
   "execution_count": 24,
   "metadata": {},
   "outputs": [],
   "source": [
    "#電腦及週邊設備業\n",
    "with open('./NewListedStockID/電腦及週邊設備業.csv','w',newline='',encoding='utf-8') as csvfile:\n",
    "    writer = csv.writer(csvfile, delimiter=',')\n",
    "    for i in range(0,len(computerID)):\n",
    "        writer.writerow([computerID[i],computerName[i]])"
   ]
  },
  {
   "cell_type": "code",
   "execution_count": 25,
   "metadata": {},
   "outputs": [],
   "source": [
    "#半導體業\n",
    "with open('./NewListedStockID/半導體業.csv','w',newline='',encoding='utf-8') as csvfile:\n",
    "    writer = csv.writer(csvfile, delimiter=',')\n",
    "    for i in range(0,len(semiconductorID)):\n",
    "        writer.writerow([semiconductorID[i],semiconductorName[i]])"
   ]
  },
  {
   "cell_type": "code",
   "execution_count": 26,
   "metadata": {},
   "outputs": [],
   "source": [
    "#其他電子業\n",
    "with open('./NewListedStockID/其他電子業.csv','w',newline='',encoding='utf-8') as csvfile:\n",
    "    writer = csv.writer(csvfile, delimiter=',')\n",
    "    for i in range(0,len(otherEleID)):\n",
    "        writer.writerow([otherEleID[i],otherEleName[i]])"
   ]
  },
  {
   "cell_type": "code",
   "execution_count": 27,
   "metadata": {},
   "outputs": [],
   "source": [
    "#通信網路業\n",
    "with open('./NewListedStockID/通信網路業.csv','w',newline='',encoding='utf-8') as csvfile:\n",
    "    writer = csv.writer(csvfile, delimiter=',')\n",
    "    for i in range(0,len(communicationID)):\n",
    "        writer.writerow([communicationID[i],communicationName[i]])"
   ]
  },
  {
   "cell_type": "code",
   "execution_count": 28,
   "metadata": {},
   "outputs": [],
   "source": [
    "#光電業\n",
    "with open('./NewListedStockID/光電業.csv','w',newline='',encoding='utf-8') as csvfile:\n",
    "    writer = csv.writer(csvfile, delimiter=',')\n",
    "    for i in range(0,len(optoelectronicID)):\n",
    "        writer.writerow([optoelectronicID[i],optoelectronicName[i]])"
   ]
  },
  {
   "cell_type": "code",
   "execution_count": 29,
   "metadata": {},
   "outputs": [],
   "source": [
    "#電子通路業\n",
    "with open('./NewListedStockID/電子通路業.csv','w',newline='',encoding='utf-8') as csvfile:\n",
    "    writer = csv.writer(csvfile, delimiter=',')\n",
    "    for i in range(0,len(channelID)):\n",
    "        writer.writerow([channelID[i],channelName[i]])"
   ]
  },
  {
   "cell_type": "code",
   "execution_count": 30,
   "metadata": {},
   "outputs": [],
   "source": [
    "#資訊服務業\n",
    "with open('./NewListedStockID/資訊服務業.csv','w',newline='',encoding='utf-8') as csvfile:\n",
    "    writer = csv.writer(csvfile, delimiter=',')\n",
    "    for i in range(0,len(informationID)):\n",
    "        writer.writerow([informationID[i],informationName[i]])"
   ]
  },
  {
   "cell_type": "code",
   "execution_count": 31,
   "metadata": {},
   "outputs": [],
   "source": [
    "#通信網路業\n",
    "with open('./NewListedStockID/通信網路業.csv','w',newline='',encoding='utf-8') as csvfile:\n",
    "    writer = csv.writer(csvfile, delimiter=',')\n",
    "    for i in range(0,len(networkID)):\n",
    "        writer.writerow([networkID[i],networkName[i]])"
   ]
  },
  {
   "cell_type": "code",
   "execution_count": 32,
   "metadata": {},
   "outputs": [],
   "source": [
    "#油電燃氣業\n",
    "with open('./NewListedStockID/油電燃氣業.csv','w',newline='',encoding='utf-8') as csvfile:\n",
    "    writer = csv.writer(csvfile, delimiter=',')\n",
    "    for i in range(0,len(oilID)):\n",
    "        writer.writerow([oilID[i],oilName[i]])"
   ]
  },
  {
   "cell_type": "code",
   "execution_count": 33,
   "metadata": {},
   "outputs": [],
   "source": [
    "#觀光事業\n",
    "with open('./NewListedStockID/觀光事業.csv','w',newline='',encoding='utf-8') as csvfile:\n",
    "    writer = csv.writer(csvfile, delimiter=',')\n",
    "    for i in range(0,len(tourismID)):\n",
    "        writer.writerow([tourismID[i],tourismName[i]])"
   ]
  },
  {
   "cell_type": "code",
   "execution_count": 34,
   "metadata": {},
   "outputs": [],
   "source": [
    "#金融保險業\n",
    "with open('./NewListedStockID/金融保險業.csv','w',newline='',encoding='utf-8') as csvfile:\n",
    "    writer = csv.writer(csvfile, delimiter=',')\n",
    "    for i in range(0,len(financialID)):\n",
    "        writer.writerow([financialID[i],financialName[i]])"
   ]
  },
  {
   "cell_type": "code",
   "execution_count": 35,
   "metadata": {},
   "outputs": [],
   "source": [
    "#其他業\n",
    "with open('./NewListedStockID/其他業.csv','w',newline='',encoding='utf-8') as csvfile:\n",
    "    writer = csv.writer(csvfile, delimiter=',')\n",
    "    for i in range(0,len(otherID)):\n",
    "        writer.writerow([otherID[i],otherName[i]])"
   ]
  },
  {
   "cell_type": "code",
   "execution_count": null,
   "metadata": {},
   "outputs": [],
   "source": [
    "#All\n",
    "with open('./NewListedStockID/All.csv','w',newline='',encoding='utf-8') as csvfile:\n",
    "    writer = csv.writer(csvfile, delimiter=',')\n",
    "    for i in range(0,len(cementID)):\n",
    "        writer.writerow([cementID[i],cementName[i]])\n",
    "    for i in range(0,len(foodID)):\n",
    "        writer.writerow([foodID[i],foodName[i]])\n",
    "    for i in range(0,len(plasticID)):\n",
    "        writer.writerow([plasticID[i],plasticName[i]])\n",
    "    for i in range(0,len(buildingID)):\n",
    "        writer.writerow([buildingID[i],buildingName[i]])\n",
    "    for i in range(0,len(carID)):\n",
    "        writer.writerow([carID[i],carName[i]])\n",
    "    for i in range(0,len(fiberID)):\n",
    "        writer.writerow([fiberID[i],fiberName[i]])\n",
    "    for i in range(0,len(tradeID)):\n",
    "        writer.writerow([tradeID[i],tradeName[i]])\n",
    "    for i in range(0,len(electronicID)):\n",
    "        writer.writerow([electronicID[i],electronicName[i]])\n",
    "    for i in range(0,len(motorID)):\n",
    "        writer.writerow([motorID[i],motorName[i]])\n",
    "    for i in range(0,len(medicalID)):\n",
    "        writer.writerow([medicalID[i],medicalName[i]])\n",
    "    for i in range(0,len(cableID)):\n",
    "        writer.writerow([cableID[i],cableName[i]])\n",
    "    for i in range(0,len(chemicalID)):\n",
    "        writer.writerow([chemicalID[i],chemicalName[i]])\n",
    "    for i in range(0,len(glassID)):\n",
    "        writer.writerow([glassID[i],glassName[i]])\n",
    "    for i in range(0,len(paperID)):\n",
    "        writer.writerow([paperID[i],paperName[i]])\n",
    "    for i in range(0,len(ironID)):\n",
    "        writer.writerow([ironID[i],ironName[i]])\n",
    "    for i in range(0,len(rubberID)):\n",
    "        writer.writerow([rubberID[i],rubberName[i]])\n",
    "    for i in range(0,len(shippingID)):\n",
    "        writer.writerow([shippingID[i],shippingName[i]])\n",
    "    for i in range(0,len(computerID)):\n",
    "        writer.writerow([computerID[i],computerName[i]])\n",
    "    for i in range(0,len(semiconductorID)):\n",
    "        writer.writerow([semiconductorID[i],semiconductorName[i]])\n",
    "    for i in range(0,len(otherEleID)):\n",
    "        writer.writerow([otherEleID[i],otherEleName[i]])\n",
    "    for i in range(0,len(communicationID)):\n",
    "        writer.writerow([communicationID[i],communicationName[i]])\n",
    "    for i in range(0,len(optoelectronicID)):\n",
    "        writer.writerow([optoelectronicID[i],optoelectronicName[i]])\n",
    "    for i in range(0,len(channelID)):\n",
    "        writer.writerow([channelID[i],channelName[i]])\n",
    "    for i in range(0,len(informationID)):\n",
    "        writer.writerow([informationID[i],informationName[i]])\n",
    "    for i in range(0,len(networkID)):\n",
    "        writer.writerow([networkID[i],networkName[i]])\n",
    "    for i in range(0,len(oilID)):\n",
    "        writer.writerow([oilID[i],oilName[i]])\n",
    "    for i in range(0,len(tourismID)):\n",
    "        writer.writerow([tourismID[i],tourismName[i]])\n",
    "    for i in range(0,len(financialID)):\n",
    "        writer.writerow([financialID[i],financialName[i]])\n",
    "    for i in range(0,len(otherID)):\n",
    "        writer.writerow([otherID[i],otherName[i]])"
   ]
  }
 ],
 "metadata": {
  "kernelspec": {
   "display_name": "Python 3.10.6 ('stocktse-sb0Cx_4B-py3.10')",
   "language": "python",
   "name": "python3"
  },
  "language_info": {
   "codemirror_mode": {
    "name": "ipython",
    "version": 3
   },
   "file_extension": ".py",
   "mimetype": "text/x-python",
   "name": "python",
   "nbconvert_exporter": "python",
   "pygments_lexer": "ipython3",
   "version": "3.10.6"
  },
  "orig_nbformat": 4,
  "vscode": {
   "interpreter": {
    "hash": "21d231aeaf1f84ba336a548b6abb72ad8b5f356a79be73410311c52afcd30108"
   }
  }
 },
 "nbformat": 4,
 "nbformat_minor": 2
}
