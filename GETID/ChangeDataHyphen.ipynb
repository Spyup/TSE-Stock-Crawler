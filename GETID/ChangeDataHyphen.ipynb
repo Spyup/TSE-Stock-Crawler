{
 "cells": [
  {
   "cell_type": "code",
   "execution_count": 1,
   "metadata": {},
   "outputs": [],
   "source": [
    "import time,requests,json,random\n",
    "import pandas as pd\n",
    "import datetime as dt\n"
   ]
  },
  {
   "cell_type": "code",
   "execution_count": 2,
   "metadata": {},
   "outputs": [],
   "source": [
    "class StockCrawling:\n",
    "    req = None\n",
    "    db = None\n",
    "\n",
    "    def __init__(self):\n",
    "        self.req = requests.session()\n",
    "\n",
    "    def __del__(self):\n",
    "        self.req.close()\n",
    "\n",
    "    def show_realtime(self, *stock_id):\n",
    "        twse_url = 'http://mis.twse.com.tw/stock/api/getStockInfo.jsp'\n",
    "        timestamp = int(time.time() * 1000)\n",
    "        channels = '|'.join('tse_{}.tw'.format(target_tse) for target_tse in stock_id)\n",
    "        query_url = '{}?&ex_ch={}&json=1&delay=0&_={}'.format(twse_url, channels, timestamp)\n",
    "\n",
    "        headers = {'Accept-Language': 'zh-TW',\n",
    "                   'User-Agent': 'Mozilla/5.0 (Windows NT 6.1; WOW64) AppleWebKit/537.36 (KHTML, like Gecko) Chrome/58.0.3029.81 Safari/537.36',\n",
    "                   }\n",
    "\n",
    "        self.req.get('http://mis.twse.com.tw/stock/index.jsp', headers=headers)\n",
    "        response = self.req.get(query_url)\n",
    "        if response.text.strip() == '':\n",
    "            return None\n",
    "\n",
    "        # d: 日期, h: 最高, l: 最低, c:代號, n: 名稱, t:時間, o: 開盤, v: 交易量, z: 成交價\n",
    "        # load JSON from TSE\n",
    "        content = json.loads(response.text)\n",
    "        self.req.cookies.clear()\n",
    "        return content['msgArray']"
   ]
  },
  {
   "cell_type": "code",
   "execution_count": 13,
   "metadata": {},
   "outputs": [
    {
     "name": "stdout",
     "output_type": "stream",
     "text": [
      "[['2022-08-18', '13:17:48', '1701', '中化', 21.65, 2.0, 21.85, 21.55, 21.7, 21.65, 444], ['2022-08-18', '13:17:18', '1702', '南僑', 45.55, 1.0, 45.95, 45.45, 45.65, 45.55, 140], ['2022-08-18', '13:17:36', '1707', '葡萄王', nan, nan, 137.0, 134.5, 134.5, 134.5, 277], ['2022-08-18', '13:17:50', '1708', '東鹼', nan, nan, 49.1, 48.25, 49.05, 48.9, 5246], ['2022-08-18', '13:17:42', '1709', '和益', nan, nan, 26.15, 25.9, 25.9, 26.0, 1267], ['2022-08-18', '13:17:50', '1710', '東聯', nan, nan, 17.85, 17.5, 17.7, 17.7, 931], ['2022-08-18', '13:17:48', '1711', '永光', nan, nan, 20.95, 20.45, 20.85, 20.8, 1522], ['2022-08-18', '13:17:48', '1712', '興農', nan, nan, 38.5, 37.1, 38.6, 38.3, 3451], ['2022-08-18', '12:30:16', '1713', '國化', 24.3, 1.0, 24.3, 24.25, 24.3, 24.25, 8], ['2022-08-18', '13:16:34', '1714', '和桐', nan, nan, 9.32, 9.29, 9.3, 9.31, 482], ['2022-08-18', '13:17:00', '1717', '長興', nan, nan, 32.95, 32.6, 33.0, 32.95, 1034], ['2022-08-18', '13:17:30', '1718', '中纖', nan, nan, 8.14, 8.06, 8.14, 8.14, 1333], ['2022-08-18', '13:17:45', '1720', '生達', nan, nan, 47.7, 47.3, 47.65, 47.65, 278], ['2022-08-18', '13:17:50', '1721', '三晃', 17.2, 1.0, 17.25, 16.75, 16.9, 16.85, 1700], ['2022-08-18', '13:17:32', '1722', '台肥', nan, nan, 66.7, 66.2, 66.4, 66.5, 1828], ['2022-08-18', '13:17:35', '1723', '中碳', nan, nan, 115.5, 114.0, 115.5, 115.0, 387], ['2022-08-18', '13:17:26', '1725', '元禎', nan, nan, 22.95, 22.7, 22.75, 22.95, 22], ['2022-08-18', '13:17:21', '1726', '永記', nan, nan, 73.2, 72.8, 72.9, 72.8, 9], ['2022-08-18', '13:17:01', '1727', '中華化', nan, nan, 33.15, 31.95, 32.3, 32.0, 738], ['2022-08-18', '13:04:53', '1730', '花仙子', nan, nan, 57.3, 57.2, 57.2, 57.2, 5], ['2022-08-18', '13:17:16', '1731', '美吾華', nan, nan, 18.05, 17.95, 17.95, 17.95, 100], ['2022-08-18', '13:17:47', '1732', '毛寶', nan, nan, 34.25, 32.35, 32.8, 32.8, 2071], ['2022-08-18', '13:16:49', '1733', '五鼎', nan, nan, 27.3, 26.85, 26.8, 26.85, 423], ['2022-08-18', '13:17:22', '1734', '杏輝', nan, nan, 30.15, 29.5, 29.55, 29.65, 1795], ['2022-08-18', '12:44:23', '1735', '日勝化', 14.25, 1.0, 14.35, 14.25, 14.25, 14.35, 5], ['2022-08-18', '13:16:39', '1736', '喬山', nan, nan, 54.2, 53.5, 53.8, 54.1, 150]]\n"
     ]
    },
    {
     "ename": "KeyboardInterrupt",
     "evalue": "",
     "output_type": "error",
     "traceback": [
      "\u001b[1;31m---------------------------------------------------------------------------\u001b[0m",
      "\u001b[1;31mKeyboardInterrupt\u001b[0m                         Traceback (most recent call last)",
      "\u001b[1;32mc:\\Users\\Administrator\\Documents\\TSE-Stock-Crawler\\ChangeDataHyphen.ipynb Cell 3\u001b[0m in \u001b[0;36m<cell line: 1>\u001b[1;34m()\u001b[0m\n\u001b[0;32m     <a href='vscode-notebook-cell:/c%3A/Users/Administrator/Documents/TSE-Stock-Crawler/ChangeDataHyphen.ipynb#W2sZmlsZQ%3D%3D?line=51'>52</a>\u001b[0m         _sleep_time \u001b[39m=\u001b[39m random\u001b[39m.\u001b[39mrandint(\u001b[39m2\u001b[39m, \u001b[39m4\u001b[39m)\n\u001b[0;32m     <a href='vscode-notebook-cell:/c%3A/Users/Administrator/Documents/TSE-Stock-Crawler/ChangeDataHyphen.ipynb#W2sZmlsZQ%3D%3D?line=52'>53</a>\u001b[0m             \u001b[39m# sleep\u001b[39;00m\n\u001b[1;32m---> <a href='vscode-notebook-cell:/c%3A/Users/Administrator/Documents/TSE-Stock-Crawler/ChangeDataHyphen.ipynb#W2sZmlsZQ%3D%3D?line=53'>54</a>\u001b[0m         time\u001b[39m.\u001b[39;49msleep(_sleep_time)\n\u001b[0;32m     <a href='vscode-notebook-cell:/c%3A/Users/Administrator/Documents/TSE-Stock-Crawler/ChangeDataHyphen.ipynb#W2sZmlsZQ%3D%3D?line=54'>55</a>\u001b[0m         \u001b[39mprint\u001b[39m(\u001b[39m\"\u001b[39m\u001b[39m====== \u001b[39m\u001b[39m\"\u001b[39m \u001b[39m+\u001b[39m time\u001b[39m.\u001b[39mstrftime(\u001b[39m\"\u001b[39m\u001b[39m%\u001b[39m\u001b[39mH:\u001b[39m\u001b[39m%\u001b[39m\u001b[39mM:\u001b[39m\u001b[39m%\u001b[39m\u001b[39mS\u001b[39m\u001b[39m\"\u001b[39m) \u001b[39m+\u001b[39m \u001b[39m\"\u001b[39m\u001b[39m ======\u001b[39m\u001b[39m\"\u001b[39m)\n\u001b[0;32m     <a href='vscode-notebook-cell:/c%3A/Users/Administrator/Documents/TSE-Stock-Crawler/ChangeDataHyphen.ipynb#W2sZmlsZQ%3D%3D?line=55'>56</a>\u001b[0m \u001b[39mfinally\u001b[39;00m:\n",
      "\u001b[1;31mKeyboardInterrupt\u001b[0m: "
     ]
    }
   ],
   "source": [
    "if __name__ == '__main__':\n",
    "    # To ill stock IDs that you want.\n",
    "    data = pd.read_csv(\"./ListedStockID/化學類.csv\")\n",
    "    stock_ids = [ str(i) for i in data['代碼'].to_list() ]\n",
    "    crawling = StockCrawling()\n",
    "    try:\n",
    "        while True:\n",
    "            now = dt.datetime.now()\n",
    "            #if now < STOP_TIME:\n",
    "            data = crawling.show_realtime(*stock_ids)\n",
    "            #print(data)\n",
    "            records = []\n",
    "            items = []\n",
    "            for s_dict in data:\n",
    "                try:\n",
    "                    _t = dt.datetime.strptime(s_dict['t'], '%H:%M:%S').time().strftime('%H:%M:%S')\n",
    "                    _dt = dt.datetime.strptime(s_dict['d'], \"%Y%m%d\").date().strftime('%Y-%m-%d')\n",
    "                    #_dt: 日期；_t: 時間；c: 股票代碼；n: 股票簡稱；z: 當盤成交價；tv: 當盤成交量；\n",
    "                    # h: 最高價；l: 最低價；y: 昨收；o: 開盤價；v: 累積成交量\n",
    "                    if(s_dict['z']!='-'):\n",
    "                        s_dict['z'] = float(s_dict['z'])\n",
    "                    else:\n",
    "                        s_dict['z'] = float('NaN')\n",
    "                    if(s_dict['tv']!='-'):\n",
    "                        s_dict['tv'] = float(s_dict['tv'])\n",
    "                    else:\n",
    "                        s_dict['tv'] = float('NaN')\n",
    "                    if(s_dict['h']!='-'):\n",
    "                        s_dict['h'] = float(s_dict['h'])\n",
    "                    else:\n",
    "                        s_dict['h'] = float('NaN')\n",
    "                    if(s_dict['l']!='-'):\n",
    "                        s_dict['l'] = float(s_dict['l'])\n",
    "                    else:\n",
    "                        s_dict['l'] = float('NaN')\n",
    "                    if(s_dict['o']!='-'):\n",
    "                        s_dict['o'] = float(s_dict['o'])\n",
    "                    else:\n",
    "                        s_dict['o'] = float('NaN')\n",
    "                    if(s_dict['v']!='-'):\n",
    "                        s_dict['v'] = float(s_dict['v'])\n",
    "                    else:\n",
    "                        s_dict['v'] = float('NaN')\n",
    "\n",
    "                    records.append([_dt, _t, s_dict['c'], s_dict['n'], s_dict['z'], s_dict['tv'],\n",
    "                                    s_dict['h'], s_dict['l'], float(s_dict['y']), float(s_dict['o']), int(s_dict['v'])])\n",
    "\n",
    "                except ValueError as _e:\n",
    "                    print(\"ValueErr : \" + str(_e))\n",
    "            print(records)\n",
    "            _sleep_time = random.randint(2, 4)\n",
    "                # sleep\n",
    "            time.sleep(_sleep_time)\n",
    "            print(\"====== \" + time.strftime(\"%H:%M:%S\") + \" ======\")\n",
    "    finally:\n",
    "        del crawling\n"
   ]
  }
 ],
 "metadata": {
  "kernelspec": {
   "display_name": "Python 3.9.12 64-bit",
   "language": "python",
   "name": "python3"
  },
  "language_info": {
   "name": "python",
   "version": "3.9.12"
  },
  "orig_nbformat": 4,
  "vscode": {
   "interpreter": {
    "hash": "6fff98fc3b3d81bd655c2cc48858186e4d9e2db7b515bf1c3221888f12a62f87"
   }
  }
 },
 "nbformat": 4,
 "nbformat_minor": 2
}
