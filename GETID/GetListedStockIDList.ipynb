{
 "cells": [
  {
   "cell_type": "code",
   "execution_count": 1,
   "metadata": {},
   "outputs": [],
   "source": [
    "from requests_html import HTMLSession\n",
    "import csv"
   ]
  },
  {
   "cell_type": "code",
   "execution_count": 2,
   "metadata": {},
   "outputs": [],
   "source": [
    "req = HTMLSession()\n",
    "response = req.get('https://www.tej.com.tw/webtej/doc/uid.htm')\n"
   ]
  },
  {
   "cell_type": "code",
   "execution_count": 3,
   "metadata": {},
   "outputs": [],
   "source": [
    "res = response.html.xpath(\"//font[text()]/text()\")\n",
    "# print(res)"
   ]
  },
  {
   "cell_type": "code",
   "execution_count": 8,
   "metadata": {},
   "outputs": [
    {
     "name": "stdout",
     "output_type": "stream",
     "text": [
      "味全\n",
      "宏亞\n"
     ]
    }
   ],
   "source": [
    "print(res[30])\n",
    "print(res[78])"
   ]
  },
  {
   "cell_type": "code",
   "execution_count": 9,
   "metadata": {},
   "outputs": [],
   "source": [
    "code = []\n",
    "name = []\n",
    "for i in range(29,78,2):\n",
    "    code.append(res[i])\n",
    "for i in range(30,79,2):\n",
    "    name.append(res[i])\n",
    "ans = dict(zip(code,name))"
   ]
  },
  {
   "cell_type": "code",
   "execution_count": 10,
   "metadata": {},
   "outputs": [
    {
     "name": "stdout",
     "output_type": "stream",
     "text": [
      "{'1201': '味全', '1203': '味王', '1204': '津津', '1207': '嘉食化', '1210': '大成', '1212': '中日', '1213': '大飲', '1215': '卜蜂', '1216': '統一', '1217': '愛之味', '1218': '泰山', '1219': '福壽', '1220': '台榮', '1221': '久津', '1224': '惠勝', '1225': '福懋油脂', '1227': '佳格', '1228': '台芳', '1229': '聯華', '1231': '聯華食品', '1232': '大統益', '1233': '天仁', '1234': '黑松', '1235': '興泰', '1236': '宏亞'}\n"
     ]
    }
   ],
   "source": [
    "print(ans)"
   ]
  },
  {
   "cell_type": "code",
   "execution_count": 11,
   "metadata": {},
   "outputs": [],
   "source": [
    "with open('./ListedStockID/食品類.csv','w',newline='',encoding='utf-8') as csvfile:\n",
    "    writer = csv.writer(csvfile, delimiter=',')\n",
    "    for i in range(0,len(code)):\n",
    "        writer.writerow([code[i],name[i]])"
   ]
  }
 ],
 "metadata": {
  "kernelspec": {
   "display_name": "Python 3.9.12 ('stocktse-EzY4arok-py3.9')",
   "language": "python",
   "name": "python3"
  },
  "language_info": {
   "codemirror_mode": {
    "name": "ipython",
    "version": 3
   },
   "file_extension": ".py",
   "mimetype": "text/x-python",
   "name": "python",
   "nbconvert_exporter": "python",
   "pygments_lexer": "ipython3",
   "version": "3.9.12"
  },
  "orig_nbformat": 4,
  "vscode": {
   "interpreter": {
    "hash": "d6c939ea2f4ee7a692ca06af42e6836fb32d2bf2add5ed76cf8f46479a1ff968"
   }
  }
 },
 "nbformat": 4,
 "nbformat_minor": 2
}
