{
 "cells": [
  {
   "cell_type": "code",
   "execution_count": 42,
   "metadata": {},
   "outputs": [],
   "source": [
    "import csv\n",
    "\n",
    "SourceLocation = \"./All.csv\"\n",
    "new=\"./type.csv\""
   ]
  },
  {
   "cell_type": "code",
   "execution_count": 47,
   "metadata": {},
   "outputs": [
    {
     "ename": "ValueError",
     "evalue": "invalid literal for int() with base 10: '代碼'",
     "output_type": "error",
     "traceback": [
      "\u001b[1;31m---------------------------------------------------------------------------\u001b[0m",
      "\u001b[1;31mValueError\u001b[0m                                Traceback (most recent call last)",
      "\u001b[1;32mc:\\Users\\Administrator\\Documents\\TSE-Stock-Crawler\\classCSV.ipynb Cell 2\u001b[0m in \u001b[0;36m<cell line: 1>\u001b[1;34m()\u001b[0m\n\u001b[0;32m      <a href='vscode-notebook-cell:/c%3A/Users/Administrator/Documents/TSE-Stock-Crawler/classCSV.ipynb#W1sZmlsZQ%3D%3D?line=8'>9</a>\u001b[0m \u001b[39mfor\u001b[39;00m row \u001b[39min\u001b[39;00m rows:\n\u001b[0;32m     <a href='vscode-notebook-cell:/c%3A/Users/Administrator/Documents/TSE-Stock-Crawler/classCSV.ipynb#W1sZmlsZQ%3D%3D?line=9'>10</a>\u001b[0m   temp\u001b[39m=\u001b[39m[]\n\u001b[1;32m---> <a href='vscode-notebook-cell:/c%3A/Users/Administrator/Documents/TSE-Stock-Crawler/classCSV.ipynb#W1sZmlsZQ%3D%3D?line=10'>11</a>\u001b[0m   temp\u001b[39m.\u001b[39mappend(\u001b[39mint\u001b[39;49m(row[\u001b[39m2\u001b[39;49m]))\n\u001b[0;32m     <a href='vscode-notebook-cell:/c%3A/Users/Administrator/Documents/TSE-Stock-Crawler/classCSV.ipynb#W1sZmlsZQ%3D%3D?line=11'>12</a>\u001b[0m   temp\u001b[39m.\u001b[39mappend(\u001b[39mstr\u001b[39m(row[\u001b[39m3\u001b[39m]))\n\u001b[0;32m     <a href='vscode-notebook-cell:/c%3A/Users/Administrator/Documents/TSE-Stock-Crawler/classCSV.ipynb#W1sZmlsZQ%3D%3D?line=12'>13</a>\u001b[0m   \u001b[39m# temp.append(\"櫃別\")\u001b[39;00m\n\u001b[0;32m     <a href='vscode-notebook-cell:/c%3A/Users/Administrator/Documents/TSE-Stock-Crawler/classCSV.ipynb#W1sZmlsZQ%3D%3D?line=13'>14</a>\u001b[0m   \u001b[39m# temp.append(\"類股\")\u001b[39;00m\n",
      "\u001b[1;31mValueError\u001b[0m: invalid literal for int() with base 10: '代碼'"
     ]
    }
   ],
   "source": [
    "with open(SourceLocation, newline='',encoding=\"utf-8\") as csvfile:\n",
    "  # 讀取 CSV 檔案內容\n",
    "  rows = csv.reader(csvfile)\n",
    "\n",
    "  data=[]\n",
    "  \n",
    "  # 以迴圈輸出每一列\n",
    "  i=0\n",
    "  for row in rows:\n",
    "    temp=[]\n",
    "    temp.append(int(row[2]))\n",
    "    temp.append(str(row[3]))\n",
    "    # temp.append(\"櫃別\")\n",
    "    # temp.append(\"類股\")\n",
    "    data.append(temp)\n",
    "    # if(i<648):\n",
    "    #   temp[2]=\"上市\"\n",
    "    # if(i>=648):\n",
    "    #   temp[2]=\"上櫃\"\n",
    "\n",
    "    # if(i<1078):\n",
    "    #   temp[3]=\"食品\"\n",
    "    # if(i<1076):\n",
    "    #   temp[3]=\"電機\"\n",
    "    # if(i<1060):\n",
    "    #   temp[3]=\"電器電纜\"\n",
    "    # if(i<1059):\n",
    "    #   temp[3]=\"鋼鐵\"\n",
    "    # if(i<1050):\n",
    "    #   temp[3]=\"金融保險\"\n",
    "    # if(i<1045):\n",
    "    #   temp[3]=\"運輸\"\n",
    "    # if(i<1037):\n",
    "    #   temp[3]=\"通訊網路\"\n",
    "    # if(i<1029):\n",
    "    #   temp[3]=\"軟體\"\n",
    "    # if(i<1016):\n",
    "    #   temp[3]=\"資訊電子\"\n",
    "    # if(i<780):\n",
    "    #   temp[3]=\"百貨貿易\"\n",
    "    # if(i<775):\n",
    "    #   temp[3]=\"證券\"\n",
    "    # if(i<758):\n",
    "    #   temp[3]=\"觀光\"\n",
    "    # if(i<753):\n",
    "    #   temp[3]=\"紡織纖維\"\n",
    "    # if(i<740):\n",
    "    #   temp[3]=\"管理股票\"\n",
    "    # if(i<727):\n",
    "    #   temp[3]=\"生技\"\n",
    "    # if(i<715):\n",
    "    #   temp[3]=\"玻璃\"\n",
    "    # if(i<714):\n",
    "    #   temp[3]=\"營建\"\n",
    "    # if(i<689):\n",
    "    #   temp[3]=\"橡膠\"\n",
    "    # if(i<688):\n",
    "    #   temp[3]=\"塑膠\"\n",
    "    # if(i<684):\n",
    "    #   temp[3]=\"化學\"\n",
    "    # if(i<673):\n",
    "    #   temp[3]=\"其他\"\n",
    "    # if(i<647):\n",
    "    #   temp[3]=\"食品\"\n",
    "    # if(i<622):\n",
    "    #   temp[3]=\"電機\"\n",
    "    # if(i<588):\n",
    "    #   temp[3]=\"電器電纜\"\n",
    "    # if(i<572):\n",
    "    #   temp[3]=\"鋼鐵\"\n",
    "    # if(i<548):\n",
    "    #   temp[3]=\"金融保險\"\n",
    "    # if(i<507):\n",
    "    #   temp[3]=\"運輸\"\n",
    "    # if(i<490):\n",
    "    #   temp[3]=\"造紙\"\n",
    "    # if(i<483):\n",
    "    #   temp[3]=\"資訊電子\"\n",
    "    # if(i<231):\n",
    "    #   temp[3]=\"貿易百貨\"\n",
    "    # if(i<219):\n",
    "    #   temp[3]=\"證券\"\n",
    "    # if(i<216):\n",
    "    #   temp[3]=\"觀光\"\n",
    "    # if(i<210):\n",
    "    #   temp[3]=\"綜合\"\n",
    "    # if(i<209):\n",
    "    #   temp[3]=\"紡織纖維\"\n",
    "    # if(i<154):\n",
    "    #   temp[3]=\"玻璃\"\n",
    "    # if(i<147):\n",
    "    #   temp[3]=\"營建\"\n",
    "    # if(i<113):\n",
    "    #   temp[3]=\"汽車\"\n",
    "    # if(i<109):\n",
    "    #   temp[3]=\"水泥\"\n",
    "    # if(i<102):\n",
    "    #   temp[3]=\"橡膠\"\n",
    "    # if(i<93):\n",
    "    #   temp[3]=\"塑膠\"\n",
    "    # if(i<72):\n",
    "    #   temp[3]=\"化學\"\n",
    "    # if(i<41):\n",
    "    #   temp[3]=\"其他\"\n",
    "    # if(i<4):\n",
    "    #   temp[3]=\"TDR台灣托存憑證\"\n",
    "    i=i+1"
   ]
  },
  {
   "cell_type": "code",
   "execution_count": 44,
   "metadata": {},
   "outputs": [],
   "source": [
    "#print(data)"
   ]
  },
  {
   "cell_type": "code",
   "execution_count": 45,
   "metadata": {},
   "outputs": [],
   "source": [
    "# import MySQLdb\n",
    "\n",
    "\n",
    "# conn = MySQLdb.connect(\n",
    "#                 host=\"127.0.0.1\",  # 主機名\n",
    "#                 user=\"thu\",  # 用戶名\n",
    "#                 passwd=\"Thu@201905\",  # 密碼\n",
    "#                 database=\"stocktescrawler\",  # 數據庫名稱\n",
    "#                 charset=\"utf8\")\n",
    "# cursor = conn.cursor()\n",
    "# sql = \"INSERT INTO `stock_id` VALUES(%s, %s, %s, %s)\"\n",
    "# try:\n",
    "#     cursor.executemany(sql, data)\n",
    "# except Exception as e:\n",
    "#     print0(\"%s：%s\" % (sql, e))\n",
    "# finally:\n",
    "#     cursor.close()\n",
    "#     conn.commit()\n",
    "#     conn.close()\n"
   ]
  },
  {
   "cell_type": "code",
   "execution_count": 46,
   "metadata": {},
   "outputs": [],
   "source": [
    "with open(new,'w',newline='',encoding=\"utf-8\") as csvfile:\n",
    "    writer = csv.writer(csvfile, delimiter=',')\n",
    "    for data_context in data:\n",
    "        writer.writerow(data_context)\n"
   ]
  }
 ],
 "metadata": {
  "kernelspec": {
   "display_name": "Python 3.9.12 64-bit",
   "language": "python",
   "name": "python3"
  },
  "language_info": {
   "codemirror_mode": {
    "name": "ipython",
    "version": 3
   },
   "file_extension": ".py",
   "mimetype": "text/x-python",
   "name": "python",
   "nbconvert_exporter": "python",
   "pygments_lexer": "ipython3",
   "version": "3.9.12"
  },
  "orig_nbformat": 4,
  "vscode": {
   "interpreter": {
    "hash": "6fff98fc3b3d81bd655c2cc48858186e4d9e2db7b515bf1c3221888f12a62f87"
   }
  }
 },
 "nbformat": 4,
 "nbformat_minor": 2
}
