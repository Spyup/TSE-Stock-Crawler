{
 "cells": [
  {
   "cell_type": "code",
   "execution_count": 111,
   "metadata": {},
   "outputs": [],
   "source": [
    "import csv\n",
    "\n",
    "SourceLocation = \"./StockID/食品類.csv\""
   ]
  },
  {
   "cell_type": "code",
   "execution_count": 112,
   "metadata": {},
   "outputs": [],
   "source": [
    "data = []\n",
    "data.append([\"代碼\",\"公司名稱\"])"
   ]
  },
  {
   "cell_type": "code",
   "execution_count": 113,
   "metadata": {},
   "outputs": [],
   "source": [
    "with open(SourceLocation, newline='') as csvfile:\n",
    "  # 讀取 CSV 檔案內容\n",
    "  rows = csv.reader(csvfile)\n",
    "\n",
    "  # 以迴圈輸出每一列\n",
    "  for row in rows:\n",
    "    data.append(row)"
   ]
  },
  {
   "cell_type": "code",
   "execution_count": 114,
   "metadata": {},
   "outputs": [
    {
     "name": "stdout",
     "output_type": "stream",
     "text": [
      "[['代碼', '公司名稱'], ['1201', '味全'], ['1203', '味王'], ['1204', '津津'], ['1207', '嘉食化'], ['1210', '大成'], ['1212', '中日'], ['1213', '大飲'], ['1215', '卜蜂'], ['1216', '統一'], ['1217', '愛之味'], ['1218', '泰山'], ['1219', '福壽'], ['1220', '台榮'], ['1221', '久津'], ['1224', '惠勝'], ['1225', '福懋油脂'], ['1227', '佳格'], ['1228', '台芳'], ['1229', '聯華'], ['1231', '聯華食品'], ['1232', '大統益'], ['1233', '天仁'], ['1234', '黑松'], ['1235', '興泰'], ['1236', '宏亞']]\n"
     ]
    }
   ],
   "source": [
    "print(data)"
   ]
  },
  {
   "cell_type": "code",
   "execution_count": 115,
   "metadata": {},
   "outputs": [],
   "source": [
    "with open(SourceLocation,'w',newline='') as csvfile:\n",
    "    writer = csv.writer(csvfile, delimiter=',')\n",
    "    for data_context in data:\n",
    "        writer.writerow(data_context)\n"
   ]
  }
 ],
 "metadata": {
  "kernelspec": {
   "display_name": "Python 3.10.6 ('stocktse-sb0Cx_4B-py3.10')",
   "language": "python",
   "name": "python3"
  },
  "language_info": {
   "codemirror_mode": {
    "name": "ipython",
    "version": 3
   },
   "file_extension": ".py",
   "mimetype": "text/x-python",
   "name": "python",
   "nbconvert_exporter": "python",
   "pygments_lexer": "ipython3",
   "version": "3.10.6"
  },
  "orig_nbformat": 4,
  "vscode": {
   "interpreter": {
    "hash": "21d231aeaf1f84ba336a548b6abb72ad8b5f356a79be73410311c52afcd30108"
   }
  }
 },
 "nbformat": 4,
 "nbformat_minor": 2
}
