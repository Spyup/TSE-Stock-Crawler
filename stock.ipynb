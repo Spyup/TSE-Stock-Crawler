{
 "cells": [
  {
   "cell_type": "code",
   "execution_count": 17,
   "metadata": {},
   "outputs": [],
   "source": [
    "import time,requests,json,random\n",
    "import pandas as pd\n",
    "import datetime as dt\n"
   ]
  },
  {
   "cell_type": "code",
   "execution_count": 18,
   "metadata": {},
   "outputs": [],
   "source": [
    "class StockCrawling:\n",
    "    req = None\n",
    "    db = None\n",
    "\n",
    "    def __init__(self):\n",
    "        self.req = requests.session()\n",
    "\n",
    "    def __del__(self):\n",
    "        self.req.close()\n",
    "\n",
    "    def show_realtime(self, *stock_id):\n",
    "        twse_url = 'http://mis.twse.com.tw/stock/api/getStockInfo.jsp'\n",
    "        timestamp = int(time.time() * 1000)\n",
    "        channels = '|'.join('tse_{}.tw'.format(target_tse) for target_tse in stock_id)\n",
    "        query_url = '{}?&ex_ch={}&json=1&delay=0&_={}'.format(twse_url, channels, timestamp)\n",
    "\n",
    "        headers = {'Accept-Language': 'zh-TW',\n",
    "                   'User-Agent': 'Mozilla/5.0 (Windows NT 6.1; WOW64) AppleWebKit/537.36 (KHTML, like Gecko) Chrome/58.0.3029.81 Safari/537.36',\n",
    "                   }\n",
    "\n",
    "        self.req.get('http://mis.twse.com.tw/stock/index.jsp', headers=headers)\n",
    "        response = self.req.get(query_url)\n",
    "        if response.text.strip() == '':\n",
    "            return None\n",
    "\n",
    "        # d: 日期, h: 最高, l: 最低, c:代號, n: 名稱, t:時間, o: 開盤, v: 交易量, z: 成交價\n",
    "        # load JSON from TSE\n",
    "        #print(response.text)\n",
    "        content = json.loads(response.text)\n",
    "        self.req.cookies.clear()\n",
    "        return content['msgArray']"
   ]
  },
  {
   "cell_type": "code",
   "execution_count": 27,
   "metadata": {},
   "outputs": [
    {
     "name": "stdout",
     "output_type": "stream",
     "text": [
      "['9101', '9102', '9103', '9104', '9902', '9904', '9905', '9906', '9907', '9908', '9910', '9911', '9912', '9914', '9915', '9917', '9918', '9919', '9921', '9922', '9924', '9925', '9926', '9927', '9928', '9929', '9930', '9931', '9933', '9934', '9935', '9936', '9937', '9938', '9939', '9940', '9941', '9942', '9943', '9944', '9945', '1701', '1702', '1704', '1707', '1708', '1709', '1710', '1711', '1712', '1713', '1714', '1715', '1716', '1717', '1718', '1720', '1721', '1722', '1723', '1724', '1725', '1726', '1727', '1729', '1730', '1731', '1732', '1733', '1734', '1735', '1736', '1301', '1303', '1304', '1305', '1306', '1307', '1308', '1309', '1310', '1311', '1312', '1313', '1314', '1315', '1316', '1319', '1321', '1323', '1324', '1325', '1326', '2101', '2102', '2103', '2104', '2105', '2106', '2107', '2108', '2109', '1101', '1102', '1103', '1104', '1107', '1109', '1110', '2201', '2204', '2206', '2207', '2501', '2504', '2505', '2506', '2509', '2511', '2512', '2514', '2515', '2516', '2520', '2521', '2523', '2524', '2525', '2526', '2527', '2528', '2530', '2533', '2534', '2535', '2536', '2537', '2538', '2539', '2540', '2542', '2543', '2544', '2545', '2546', '2547', '2548', '1802', '1805', '1806', '1807', '1808', '1809', '1810', '1402', '1407', '1408', '1409', '1410', '1413', '1414', '1416', '1417', '1418', '1419', '1423', '1432', '1434', '1435', '1436', '1437', '1438', '1439', '1440', '1441', '1442', '1443', '1444', '1445', '1446', '1447', '1449', '1450', '1451', '1452', '1453', '1454', '1455', '1456', '1457', '1458', '1459', '1460', '1462', '1463', '1464', '1465', '1466', '1467', '1468', '1469', '1470', '1471', '1472', '1473', '1474', '1475', '1476', '1477', '9801', '2701', '2702', '2704', '2705', '2706', '2707', '2854', '2855', '2856', '2901', '2902', '2903', '2904', '2905', '2906', '2908', '2910', '2911', '2912', '2913', '2915', '2301', '2302', '2303', '2305', '2308', '2310', '2311', '2312', '2313', '2314', '2315', '2316', '2317', '2318', '2319', '2321', '2322', '2323', '2324', '2325', '2326', '2327', '2328', '2329', '2330', '2331', '2332', '2333', '2335', '2336', '2337', '2338', '2339', '2340', '2341', '2342', '2343', '2344', '2345', '2347', '2348', '2349', '2350', '2351', '2352', '2353', '2354', '2355', '2356', '2357', '2358', '2359', '2360', '2361', '2362', '2363', '2364', '2365', '2366', '2367', '2368', '2369', '2370', '2371', '2373', '2374', '2375', '2376', '2377', '2378', '2379', '2380', '2381', '2382', '2383', '2384', '2385', '2386', '2387', '2388', '2389', '2390', '2391', '2392', '2393', '2394', '2395', '2396', '2397', '2398', '2399', '2401', '2402', '2403', '2404', '2405', '2406', '2407', '2408', '2409', '2410', '2411', '2412', '2413', '2414', '2415', '2416', '2417', '2418', '2419', '2420', '2421', '2422', '2423', '2424', '2425', '2426', '2427', '2428', '2429', '2430', '2431', '2432', '2433', '2434', '2435', '2436', '2437', '2438', '2439', '2440', '2441', '2442', '2443', '2444', '2445', '2446', '2447', '2448', '2449', '2450', '2451', '2452', '2453', '2454', '2455', '2456', '2457', '2458', '2459', '2460', '2461', '2462', '2463', '2464', '2465', '2466', '2467', '2468', '2469', '2470', '2471', '2472', '2473', '2474', '2475', '2476', '2477', '2478', '2479', '2480', '2481', '2482', '2483', '2484', '2485', '2486', '2487', '2488', '2489', '2490', '2491', '2492', '2493', '2494', '2495', '2496', '2497', '2498', '2499', '3001', '3002', '3003', '3004', '3005', '3006', '3007', '3008', '3009', '3010', '3011', '3012', '3013', '3014', '3015', '3016', '3017', '3018', '3019', '3020', '3021', '3022', '3023', '3024', '3025', '3026', '3027', '3028', '3029', '3030', '3031', '3032', '3033', '3034', '3035', '3036', '3037', '3038', '3039', '3040', '3041', '3042', '3043', '3044', '3045', '3046', '3047', '3048', '3049', '3050', '3051', '3052', '3053', '3054', '3055', '3056', '3057', '3058', '3059', '3060', '3061', '6128', '1902', '1903', '1904', '1905', '1906', '1907', '1909', '2601', '2603', '2604', '2605', '2606', '2607', '2608', '2609', '2610', '2611', '2612', '2613', '2614', '2615', '2616', '2617', '2618', '2801', '2807', '2808', '2809', '2811', '2812', '2816', '2820', '2822', '2823', '2825', '2827', '2828', '2831', '2832', '2833', '2834', '2836', '2837', '2838', '2841', '2845', '2847', '2848', '2849', '2850', '2851', '2852', '2880', '2881', '2882', '2883', '2884', '2885', '2886', '2887', '2888', '2889', '2890', '2891', '2892', '2002', '2006', '2007', '2008', '2009', '2010', '2012', '2013', '2014', '2015', '2017', '2020', '2022', '2023', '2024', '2025', '2027', '2028', '2029', '2030', '2031', '2032', '2033', '2034', '1601', '1602', '1603', '1604', '1605', '1606', '1608', '1609', '1611', '1612', '1613', '1614', '1615', '1616', '1617', '1618', '1503', '1504', '1506', '1507', '1510', '1512', '1513', '1514', '1515', '1516', '1517', '1519', '1520', '1521', '1522', '1523', '1524', '1525', '1526', '1527', '1528', '1529', '1530', '1531', '1532', '1533', '1534', '1535', '1536', '1537', '1538', '1539', '1540', '1541', '1201', '1203', '1204', '1207', '1210', '1212', '1213', '1215', '1216', '1217', '1218', '1219', '1220', '1221', '1224', '1225', '1227', '1228', '1229', '1231', '1232', '1233', '1234', '1235', '1236', '8905', '8906', '8908', '8913', '8916', '8917', '8921', '8923', '8924', '8925', '8926', '8927', '8928', '8929', '8930', '8931', '8932', '8933', '8934', '8935', '8936', '8937', '8938', '8940', '8941', '8942', '4702', '4703', '4706', '4707', '4711', '4712', '4714', '4716', '4717', '4720', '4721', '4303', '4304', '4305', '4306', '5102', '5501', '5505', '5506', '5508', '5511', '5512', '5514', '5515', '5516', '5519', '5520', '5521', '5522', '5523', '5524', '5525', '5528', '5529', '5530', '5531', '5532', '5533', '5534', '6401', '6402', '4801', '4102', '4103', '4104', '4105', '4106', '4107', '4108', '4109', '4110', '4111', '4113', '4114', '8705', '8707', '8708', '8710', '8712', '8718', '8719', '8720', '8721', '8722', '8723', '8724', '8725', '4401', '4402', '4404', '4406', '4408', '4413', '4414', '4415', '4416', '4417', '4419', '4420', '6502', '5701', '5702', '5703', '5704', '5706', '6001', '6002', '6003', '6004', '6005', '6007', '6008', '6009', '6010', '6012', '6013', '6014', '6015', '6016', '6017', '6020', '6021', '5901', '5902', '5903', '5904', '5905', '5301', '5302', '5304', '5305', '5306', '5307', '5309', '5310', '5312', '5314', '5315', '5317', '5318', '5321', '5324', '5325', '5326', '5328', '5336', '5340', '5344', '5345', '5346', '5347', '5348', '5349', '5351', '5353', '5355', '5356', '5364', '5371', '5372', '5375', '5376', '5381', '5383', '5384', '5385', '5386', '5387', '5388', '5392', '5395', '5398', '5401', '5403', '5410', '5414', '5425', '5426', '5432', '5434', '5436', '5438', '5439', '5442', '5443', '5450', '5452', '5455', '5457', '5460', '5464', '5465', '5466', '5467', '5468', '5469', '5471', '5473', '5474', '5475', '5478', '5480', '5481', '5483', '5484', '5487', '5488', '5489', '5490', '5491', '5492', '5493', '5494', '5497', '5498', '6101', '6103', '6104', '6105', '6107', '6108', '6109', '6110', '6111', '6112', '6113', '6114', '6115', '6116', '6117', '6118', '6119', '6120', '6121', '6122', '6123', '6124', '6125', '6126', '6127', '6129', '6130', '6131', '6132', '6133', '6134', '6135', '6136', '6137', '6138', '6139', '6140', '6141', '6142', '6143', '6144', '6145', '6146', '6147', '6148', '6149', '6150', '6151', '6152', '6153', '6154', '6155', '6156', '6157', '6158', '6159', '6160', '6161', '6162', '6163', '6164', '6165', '6166', '6167', '6168', '6169', '6170', '6171', '6172', '6173', '6174', '6175', '6176', '6177', '6178', '6179', '6180', '6181', '6182', '6183', '6184', '6185', '6186', '6187', '6188', '6189', '6190', '6191', '6192', '6193', '6194', '6195', '6196', '6197', '6198', '6199', '6201', '6202', '6203', '6204', '6205', '6206', '6207', '6208', '6209', '6210', '6211', '6212', '6213', '6214', '6215', '6216', '6217', '6218', '6219', '6220', '6221', '6222', '6223', '6224', '6225', '6226', '6227', '6228', '6229', '6230', '6231', '6232', '6233', '6234', '6235', '6236', '6237', '6238', '6239', '6240', '6241', '6242', '6243', '6244', '6245', '8002', '8008', '8009', '8010', '8011', '8012', '8014', '5201', '5202', '5203', '5204', '5205', '5206', '5207', '5208', '5209', '5210', '5211', '5212', '5213', '4903', '4904', '4905', '4906', '4907', '4908', '4909', '4910', '5601', '5603', '5604', '5605', '5607', '5608', '5609', '5801', '5810', '5817', '5818', '5819', '5820', '5006', '5007', '5009', '5011', '5013', '5014', '5015', '5016', '5017', '4609', '4502', '4503', '4506', '4510', '4513', '4522', '4523', '4526', '4527', '4528', '4529', '4530', '4532', '4533', '4534', '4535', '4205', '4207']\n",
      "ERROR\n"
     ]
    },
    {
     "ename": "JSONDecodeError",
     "evalue": "Expecting value: line 31 column 1 (char 30)",
     "output_type": "error",
     "traceback": [
      "\u001b[1;31m---------------------------------------------------------------------------\u001b[0m",
      "\u001b[1;31mJSONDecodeError\u001b[0m                           Traceback (most recent call last)",
      "\u001b[1;32mc:\\Users\\Administrator\\Documents\\TSE-Stock-Crawler\\stock.ipynb Cell 3\u001b[0m in \u001b[0;36m<cell line: 1>\u001b[1;34m()\u001b[0m\n\u001b[0;32m      <a href='vscode-notebook-cell:/c%3A/Users/Administrator/Documents/TSE-Stock-Crawler/stock.ipynb#W2sZmlsZQ%3D%3D?line=8'>9</a>\u001b[0m now \u001b[39m=\u001b[39m dt\u001b[39m.\u001b[39mdatetime\u001b[39m.\u001b[39mnow()\n\u001b[0;32m     <a href='vscode-notebook-cell:/c%3A/Users/Administrator/Documents/TSE-Stock-Crawler/stock.ipynb#W2sZmlsZQ%3D%3D?line=9'>10</a>\u001b[0m \u001b[39m#if now < STOP_TIME:\u001b[39;00m\n\u001b[1;32m---> <a href='vscode-notebook-cell:/c%3A/Users/Administrator/Documents/TSE-Stock-Crawler/stock.ipynb#W2sZmlsZQ%3D%3D?line=10'>11</a>\u001b[0m data \u001b[39m=\u001b[39m crawling\u001b[39m.\u001b[39;49mshow_realtime(\u001b[39m*\u001b[39;49mstock_ids)\n\u001b[0;32m     <a href='vscode-notebook-cell:/c%3A/Users/Administrator/Documents/TSE-Stock-Crawler/stock.ipynb#W2sZmlsZQ%3D%3D?line=11'>12</a>\u001b[0m records \u001b[39m=\u001b[39m []\n\u001b[0;32m     <a href='vscode-notebook-cell:/c%3A/Users/Administrator/Documents/TSE-Stock-Crawler/stock.ipynb#W2sZmlsZQ%3D%3D?line=12'>13</a>\u001b[0m \u001b[39mfor\u001b[39;00m s_dict \u001b[39min\u001b[39;00m data:\n",
      "\u001b[1;32mc:\\Users\\Administrator\\Documents\\TSE-Stock-Crawler\\stock.ipynb Cell 3\u001b[0m in \u001b[0;36mStockCrawling.show_realtime\u001b[1;34m(self, *stock_id)\u001b[0m\n\u001b[0;32m     <a href='vscode-notebook-cell:/c%3A/Users/Administrator/Documents/TSE-Stock-Crawler/stock.ipynb#W2sZmlsZQ%3D%3D?line=23'>24</a>\u001b[0m     \u001b[39mreturn\u001b[39;00m \u001b[39mNone\u001b[39;00m\n\u001b[0;32m     <a href='vscode-notebook-cell:/c%3A/Users/Administrator/Documents/TSE-Stock-Crawler/stock.ipynb#W2sZmlsZQ%3D%3D?line=25'>26</a>\u001b[0m \u001b[39m# d: 日期, h: 最高, l: 最低, c:代號, n: 名稱, t:時間, o: 開盤, v: 交易量, z: 成交價\u001b[39;00m\n\u001b[0;32m     <a href='vscode-notebook-cell:/c%3A/Users/Administrator/Documents/TSE-Stock-Crawler/stock.ipynb#W2sZmlsZQ%3D%3D?line=26'>27</a>\u001b[0m \u001b[39m# load JSON from TSE\u001b[39;00m\n\u001b[0;32m     <a href='vscode-notebook-cell:/c%3A/Users/Administrator/Documents/TSE-Stock-Crawler/stock.ipynb#W2sZmlsZQ%3D%3D?line=27'>28</a>\u001b[0m \u001b[39m#print(response.text)\u001b[39;00m\n\u001b[1;32m---> <a href='vscode-notebook-cell:/c%3A/Users/Administrator/Documents/TSE-Stock-Crawler/stock.ipynb#W2sZmlsZQ%3D%3D?line=28'>29</a>\u001b[0m content \u001b[39m=\u001b[39m json\u001b[39m.\u001b[39;49mloads(response\u001b[39m.\u001b[39;49mtext)\n\u001b[0;32m     <a href='vscode-notebook-cell:/c%3A/Users/Administrator/Documents/TSE-Stock-Crawler/stock.ipynb#W2sZmlsZQ%3D%3D?line=29'>30</a>\u001b[0m \u001b[39mself\u001b[39m\u001b[39m.\u001b[39mreq\u001b[39m.\u001b[39mcookies\u001b[39m.\u001b[39mclear()\n\u001b[0;32m     <a href='vscode-notebook-cell:/c%3A/Users/Administrator/Documents/TSE-Stock-Crawler/stock.ipynb#W2sZmlsZQ%3D%3D?line=30'>31</a>\u001b[0m \u001b[39mreturn\u001b[39;00m content[\u001b[39m'\u001b[39m\u001b[39mmsgArray\u001b[39m\u001b[39m'\u001b[39m]\n",
      "File \u001b[1;32m~\\AppData\\Local\\Programs\\Python\\Python39\\lib\\json\\__init__.py:346\u001b[0m, in \u001b[0;36mloads\u001b[1;34m(s, cls, object_hook, parse_float, parse_int, parse_constant, object_pairs_hook, **kw)\u001b[0m\n\u001b[0;32m    341\u001b[0m     s \u001b[39m=\u001b[39m s\u001b[39m.\u001b[39mdecode(detect_encoding(s), \u001b[39m'\u001b[39m\u001b[39msurrogatepass\u001b[39m\u001b[39m'\u001b[39m)\n\u001b[0;32m    343\u001b[0m \u001b[39mif\u001b[39;00m (\u001b[39mcls\u001b[39m \u001b[39mis\u001b[39;00m \u001b[39mNone\u001b[39;00m \u001b[39mand\u001b[39;00m object_hook \u001b[39mis\u001b[39;00m \u001b[39mNone\u001b[39;00m \u001b[39mand\u001b[39;00m\n\u001b[0;32m    344\u001b[0m         parse_int \u001b[39mis\u001b[39;00m \u001b[39mNone\u001b[39;00m \u001b[39mand\u001b[39;00m parse_float \u001b[39mis\u001b[39;00m \u001b[39mNone\u001b[39;00m \u001b[39mand\u001b[39;00m\n\u001b[0;32m    345\u001b[0m         parse_constant \u001b[39mis\u001b[39;00m \u001b[39mNone\u001b[39;00m \u001b[39mand\u001b[39;00m object_pairs_hook \u001b[39mis\u001b[39;00m \u001b[39mNone\u001b[39;00m \u001b[39mand\u001b[39;00m \u001b[39mnot\u001b[39;00m kw):\n\u001b[1;32m--> 346\u001b[0m     \u001b[39mreturn\u001b[39;00m _default_decoder\u001b[39m.\u001b[39;49mdecode(s)\n\u001b[0;32m    347\u001b[0m \u001b[39mif\u001b[39;00m \u001b[39mcls\u001b[39m \u001b[39mis\u001b[39;00m \u001b[39mNone\u001b[39;00m:\n\u001b[0;32m    348\u001b[0m     \u001b[39mcls\u001b[39m \u001b[39m=\u001b[39m JSONDecoder\n",
      "File \u001b[1;32m~\\AppData\\Local\\Programs\\Python\\Python39\\lib\\json\\decoder.py:337\u001b[0m, in \u001b[0;36mJSONDecoder.decode\u001b[1;34m(self, s, _w)\u001b[0m\n\u001b[0;32m    332\u001b[0m \u001b[39mdef\u001b[39;00m \u001b[39mdecode\u001b[39m(\u001b[39mself\u001b[39m, s, _w\u001b[39m=\u001b[39mWHITESPACE\u001b[39m.\u001b[39mmatch):\n\u001b[0;32m    333\u001b[0m     \u001b[39m\"\"\"Return the Python representation of ``s`` (a ``str`` instance\u001b[39;00m\n\u001b[0;32m    334\u001b[0m \u001b[39m    containing a JSON document).\u001b[39;00m\n\u001b[0;32m    335\u001b[0m \n\u001b[0;32m    336\u001b[0m \u001b[39m    \"\"\"\u001b[39;00m\n\u001b[1;32m--> 337\u001b[0m     obj, end \u001b[39m=\u001b[39m \u001b[39mself\u001b[39;49m\u001b[39m.\u001b[39;49mraw_decode(s, idx\u001b[39m=\u001b[39;49m_w(s, \u001b[39m0\u001b[39;49m)\u001b[39m.\u001b[39;49mend())\n\u001b[0;32m    338\u001b[0m     end \u001b[39m=\u001b[39m _w(s, end)\u001b[39m.\u001b[39mend()\n\u001b[0;32m    339\u001b[0m     \u001b[39mif\u001b[39;00m end \u001b[39m!=\u001b[39m \u001b[39mlen\u001b[39m(s):\n",
      "File \u001b[1;32m~\\AppData\\Local\\Programs\\Python\\Python39\\lib\\json\\decoder.py:355\u001b[0m, in \u001b[0;36mJSONDecoder.raw_decode\u001b[1;34m(self, s, idx)\u001b[0m\n\u001b[0;32m    353\u001b[0m     obj, end \u001b[39m=\u001b[39m \u001b[39mself\u001b[39m\u001b[39m.\u001b[39mscan_once(s, idx)\n\u001b[0;32m    354\u001b[0m \u001b[39mexcept\u001b[39;00m \u001b[39mStopIteration\u001b[39;00m \u001b[39mas\u001b[39;00m err:\n\u001b[1;32m--> 355\u001b[0m     \u001b[39mraise\u001b[39;00m JSONDecodeError(\u001b[39m\"\u001b[39m\u001b[39mExpecting value\u001b[39m\u001b[39m\"\u001b[39m, s, err\u001b[39m.\u001b[39mvalue) \u001b[39mfrom\u001b[39;00m \u001b[39mNone\u001b[39m\n\u001b[0;32m    356\u001b[0m \u001b[39mreturn\u001b[39;00m obj, end\n",
      "\u001b[1;31mJSONDecodeError\u001b[0m: Expecting value: line 31 column 1 (char 30)"
     ]
    }
   ],
   "source": [
    "if __name__ == '__main__':\n",
    "    # To ill stock IDs that you want.\n",
    "    data = pd.read_csv(\"./class.csv\")\n",
    "    stock_ids = [ str(i) for i in data['代碼'].to_list() ]\n",
    "    #print(stock_ids)\n",
    "    crawling = StockCrawling()\n",
    "    try:\n",
    "        while True:\n",
    "            now = dt.datetime.now()\n",
    "            #if now < STOP_TIME:\n",
    "            data = crawling.show_realtime(*stock_ids)\n",
    "            records = []\n",
    "            for s_dict in data:\n",
    "                try:\n",
    "                    \n",
    "                    _dt = dt.datetime.strptime(s_dict['d'], \"%Y%m%d\").date().strftime('%Y-%m-%d')\n",
    "                    _t = dt.datetime.strptime(s_dict['t'], '%H:%M:%S').time().strftime('%H:%M:%S')\n",
    "                    # records.append([_dt, s_dict['c'], s_dict['n'],\n",
    "                    #             float(s_dict['z']), float(s_dict['h']), float(s_dict['l']), float(s_dict['o']),\n",
    "                    #             int(s_dict['v'])])\n",
    "                    if(s_dict['z']!='-'):\n",
    "                        s_dict['z'] = float(s_dict['z'])\n",
    "                    else:\n",
    "                        s_dict['z'] = float('NaN')\n",
    "                    if(s_dict['tv']!='-'):\n",
    "                        s_dict['tv'] = float(s_dict['tv'])\n",
    "                    else:\n",
    "                        s_dict['tv'] = float('NaN')\n",
    "                    if(s_dict['h']!='-'):\n",
    "                        s_dict['h'] = float(s_dict['h'])\n",
    "                    else:\n",
    "                        s_dict['h'] = float('NaN')\n",
    "                    if(s_dict['l']!='-'):\n",
    "                        s_dict['l'] = float(s_dict['l'])\n",
    "                    else:\n",
    "                        s_dict['l'] = float('NaN')\n",
    "                    if(s_dict['o']!='-'):\n",
    "                        s_dict['o'] = float(s_dict['o'])\n",
    "                    else:\n",
    "                        s_dict['o'] = float('NaN')\n",
    "                    if(s_dict['v']!='-'):\n",
    "                        s_dict['v'] = float(s_dict['v'])\n",
    "                    else:\n",
    "                        s_dict['v'] = float('NaN')\n",
    "\n",
    "                    records.append([_dt, _t, s_dict['c'], s_dict['n'], s_dict['z'], s_dict['tv'],\n",
    "                    s_dict['h'], s_dict['l'], float(s_dict['y']), float(s_dict['o']), int(s_dict['v'])])\n",
    "\n",
    "                \n",
    "                except ValueError as _e:\n",
    "                    print(\"ValueErr : \" + str(_e))\n",
    "            print(records)\n",
    "            _sleep_time = random.randint(2, 4)\n",
    "                # sleep\n",
    "            time.sleep(_sleep_time)\n",
    "            print(\"====== \" + time.strftime(\"%H:%M:%S\") + \" ======\")\n",
    "    finally:\n",
    "        print(\"ERROR\")\n",
    "        del crawling\n"
   ]
  }
 ],
 "metadata": {
  "kernelspec": {
   "display_name": "Python 3.9.12 ('stocktse-EzY4arok-py3.9')",
   "language": "python",
   "name": "python3"
  },
  "language_info": {
   "codemirror_mode": {
    "name": "ipython",
    "version": 3
   },
   "file_extension": ".py",
   "mimetype": "text/x-python",
   "name": "python",
   "nbconvert_exporter": "python",
   "pygments_lexer": "ipython3",
   "version": "3.9.12"
  },
  "orig_nbformat": 4,
  "vscode": {
   "interpreter": {
    "hash": "d6c939ea2f4ee7a692ca06af42e6836fb32d2bf2add5ed76cf8f46479a1ff968"
   }
  }
 },
 "nbformat": 4,
 "nbformat_minor": 2
}
